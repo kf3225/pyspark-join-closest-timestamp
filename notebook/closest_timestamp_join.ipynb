{
 "cells": [
  {
   "cell_type": "code",
   "execution_count": null,
   "id": "496e7588-3f18-426c-ba6f-a590d4db1387",
   "metadata": {},
   "outputs": [],
   "source": [
    "from pyspark.sql import SparkSession, DataFrame, Window, Column\n",
    "from pyspark.sql import functions as psf\n",
    "from pyspark.sql.types import StructType, StructField, StringType, TimestampType\n",
    "from datetime import datetime, timedelta\n",
    "from typing import List\n",
    "from uuid import uuid4\n",
    "from time import time\n",
    "import random"
   ]
  },
  {
   "cell_type": "code",
   "execution_count": null,
   "id": "41bd8431-d9ac-47ce-8bd4-3e21d4006565",
   "metadata": {},
   "outputs": [],
   "source": [
    "spark = SparkSession.builder.appName(\"closest_timestamp_join\").getOrCreate()"
   ]
  },
  {
   "cell_type": "code",
   "execution_count": null,
   "id": "324becdf-f8ca-4dc6-b221-7d2378f61fa7",
   "metadata": {},
   "outputs": [],
   "source": [
    "event_schema = StructType([\n",
    "    StructField(\"event_id\", StringType(), True),\n",
    "    StructField(\"event_time\", TimestampType(), True),\n",
    "])\n",
    "record_schema = StructType([\n",
    "    StructField(\"record_id\", StringType(), True),\n",
    "    StructField(\"record_time\", TimestampType(), True),\n",
    "])"
   ]
  },
  {
   "cell_type": "code",
   "execution_count": null,
   "id": "407a5764-35b5-4210-8c7d-eb3fd73012fc",
   "metadata": {},
   "outputs": [],
   "source": [
    "def generate_dataframe(spark: SparkSession, schema: StructType, row_count: int, start_time: datetime = datetime.now()) -> DataFrame:\n",
    "    records = [(str(uuid4()), start_time + timedelta(seconds=i+random.random())) for i in range(row_count)]\n",
    "    return spark.createDataFrame(records, schema)"
   ]
  },
  {
   "attachments": {},
   "cell_type": "markdown",
   "id": "e2f3188d-9ded-47d5-a44d-9d8a07f6f06a",
   "metadata": {},
   "source": [
    "# Use rank method of window function\n",
    "\n",
    "|Row count|execution time|\n",
    "|:-:|:-:|\n",
    "|100|1.712 sec|\n",
    "|1,000|2.525 sec|\n",
    "|10,000|44.915 sec|\n",
    "|100,000|timeout|\n",
    "|1,000,000|timeout|"
   ]
  },
  {
   "cell_type": "code",
   "execution_count": null,
   "id": "45841d20-0ac3-416f-865b-e03c0c208679",
   "metadata": {},
   "outputs": [],
   "source": [
    "def join_using_rank(event_df: DataFrame, record_df: DataFrame) -> DataFrame:\n",
    "    w = Window.partitionBy(\"e.event_id\").orderBy(\"diff\")\n",
    "    rank_df = (event_df.orderBy(\"event_time\").alias(\"e\")\n",
    "        .join(record_df.orderBy(\"record_time\").alias(\"r\"))\n",
    "        .withColumn(\"diff\", psf.abs( psf.col(\"e.event_time\").cast(\"double\") - psf.col(\"r.record_time\").cast(\"double\") ))\n",
    "        .withColumn(\"rank\", psf.rank().over(w))\n",
    "        .filter(\"rank == 1\")\n",
    "        .select(\"e.event_id\", \"r.record_id\", \"e.event_time\", \"r.record_time\", \"rank\", \"diff\")\n",
    "    )\n",
    "    return rank_df"
   ]
  },
  {
   "cell_type": "code",
   "execution_count": null,
   "id": "3f2a5841-3359-4e23-9f87-461be4eb73f6",
   "metadata": {},
   "outputs": [],
   "source": [
    "result = []\n",
    "for i in [100, 1_000, 10_000, 100_000, 1_000_000]:\n",
    "    event_df = generate_dataframe(spark, event_schema, i)\n",
    "    record_df = generate_dataframe(spark, record_schema, i)\n",
    "    \n",
    "    s = time()\n",
    "    df_using_rank_join = join_using_rank(event_df, record_df)\n",
    "    print(df_using_rank_join.count())\n",
    "    exec_time = time() - s\n",
    "    print(exec_time)\n",
    "    result = [*result, {\"row_count\": i, \"exec_time\": exec_time}]\n",
    "result"
   ]
  },
  {
   "attachments": {},
   "cell_type": "markdown",
   "id": "54e1f5db-10b3-4eee-80d3-e94f2ed2e637",
   "metadata": {},
   "source": [
    "# Use window start and end join\n",
    "\n",
    "|Row count|execution time|\n",
    "|:-:|:-:|\n",
    "|100|0.860 sec|\n",
    "|1,000|0.796 sec|\n",
    "|10,000|0.855 sec|\n",
    "|100,000|1,756 sec|\n",
    "|1,000,000|24.059 sec|"
   ]
  },
  {
   "cell_type": "code",
   "execution_count": null,
   "id": "f7fee5f7-0fea-44af-a1e4-0166b8ff4dec",
   "metadata": {},
   "outputs": [],
   "source": [
    "def add_prev_and_next_record_info(df: DataFrame) -> DataFrame:\n",
    "    id_col = next(iter([c.name for c in df.schema if \"_id\" in c.name]))\n",
    "    time_col = next(iter([c.name for c in df.schema if \"_time\" in c.name]))\n",
    "    w = Window.orderBy(time_col)\n",
    "    return (df\n",
    "        .orderBy(time_col)\n",
    "        .withColumn(\"prev_time\", psf.lag(time_col).over(w))\n",
    "        .withColumn(\"current_time\", psf.col(time_col))\n",
    "        .withColumn(\"next_time\", psf.lead(time_col).over(w))\n",
    "        .withColumn(\"prev_id\", psf.lag(id_col).over(w))\n",
    "        .withColumn(\"current_id\", psf.col(id_col))\n",
    "        .withColumn(\"next_id\", psf.lead(id_col).over(w))\n",
    "        .withColumn(\"window_start\", psf.window(timeColumn=time_col, windowDuration=\"1 minute\")[\"start\"])\n",
    "        .withColumn(\"window_end\", psf.window(timeColumn=time_col, windowDuration=\"1 minute\")[\"end\"])\n",
    "    )\n",
    "\n",
    "def generate_diff_from_join_base_time(base_time_col_name: str, comp_col_prefixes: List[str]) -> Column:\n",
    "    \n",
    "    diff_info_structs = []\n",
    "    for prefix in comp_col_prefixes:\n",
    "        s = psf.struct(\n",
    "            psf.abs(psf.col(base_time_col_name).cast(\"double\") - psf.col(f\"{prefix}_time\").cast(\"double\")).alias(\"diff\"),\n",
    "            psf.col(f\"{prefix}_id\").alias(\"id\"),\n",
    "            psf.col(f\"{prefix}_time\").alias(\"time\")\n",
    "        )\n",
    "        diff_info_structs = [*diff_info_structs, s]\n",
    "    \n",
    "    return psf.element_at(psf.array_sort(psf.array(*diff_info_structs)), 1)\n",
    "\n",
    "def join_using_window_start_end(event_df: DataFrame, record_df: DataFrame) -> DataFrame:\n",
    "    event_df_with_window = add_prev_and_next_record_info(event_df)\n",
    "    record_df_with_window = add_prev_and_next_record_info(record_df)\n",
    "    df = (event_df_with_window.alias(\"e\")\n",
    "        .join(record_df_with_window.alias(\"r\"), [\"window_start\", \"window_end\"])\n",
    "        .filter(\n",
    "            (psf.col(\"e.current_time\") >= psf.col(\"r.prev_time\"))\n",
    "            & (psf.col(\"e.current_time\") < psf.col(\"r.next_time\"))\n",
    "        )\n",
    "        .withColumn(\"min_diff\", generate_diff_from_join_base_time(\"e.current_time\", [\"r.prev\", \"r.current\", \"r.next\"]))\n",
    "        .select(\n",
    "            psf.col(\"e.current_time\").alias(\"event_time\"),\n",
    "            psf.col(\"e.current_id\").alias(\"event_id\"),\n",
    "            psf.col(\"min_diff.id\").alias(\"record_id\"),\n",
    "            psf.col(\"min_diff.time\").alias(\"record_time\"),\n",
    "            psf.col(\"min_diff.diff\").alias(\"diff\"),\n",
    "        )\n",
    "        .dropDuplicates([\"event_id\", \"record_id\"])\n",
    "    )\n",
    "    \n",
    "    return df"
   ]
  },
  {
   "cell_type": "code",
   "execution_count": null,
   "id": "792bd597-9ee5-41d0-ab87-b4a137e74c7a",
   "metadata": {},
   "outputs": [],
   "source": [
    "result = []\n",
    "for i in [100, 1_000, 10_000, 100_000, 1_000_000]:\n",
    "    event_df = generate_dataframe(spark, event_schema, i)\n",
    "    record_df = generate_dataframe(spark, record_schema, i)\n",
    "    \n",
    "    s = time()\n",
    "    df_using_window_start_end_join = join_using_window_start_end(event_df, record_df)\n",
    "    print(df_using_window_start_end_join.count())\n",
    "    exec_time = time() - s\n",
    "    print(exec_time)\n",
    "    result = [*result, {\"row_count\": i, \"exec_time\": exec_time}]\n",
    "result"
   ]
  },
  {
   "cell_type": "code",
   "execution_count": null,
   "id": "c31d9da9-b040-4836-a2fd-ad17f3ca84d8",
   "metadata": {},
   "outputs": [],
   "source": []
  }
 ],
 "metadata": {
  "kernelspec": {
   "display_name": "Python 3 (ipykernel)",
   "language": "python",
   "name": "python3"
  },
  "language_info": {
   "codemirror_mode": {
    "name": "ipython",
    "version": 3
   },
   "file_extension": ".py",
   "mimetype": "text/x-python",
   "name": "python",
   "nbconvert_exporter": "python",
   "pygments_lexer": "ipython3",
   "version": "3.10.9"
  }
 },
 "nbformat": 4,
 "nbformat_minor": 5
}
